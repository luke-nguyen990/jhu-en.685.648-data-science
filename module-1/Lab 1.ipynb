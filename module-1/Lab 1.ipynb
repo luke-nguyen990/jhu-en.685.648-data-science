{
 "cells": [
  {
   "cell_type": "markdown",
   "id": "5fc776e0-ad60-4e26-a2c2-120752461699",
   "metadata": {},
   "source": [
    "# Lab 1 - Data Science"
   ]
  },
  {
   "cell_type": "markdown",
   "id": "bcd8ae74-c2f4-4d46-98f6-90f4e2968c79",
   "metadata": {},
   "source": [
    "## General Instructions\n",
    "\n",
    "In this course, Labs are the chance to applying concepts and methods discussed in the module.\n",
    "They are a low stakes (pass/fail) opportunity for you to try your hand at *doing* data science.\n",
    "Everything you need to successfully complete the assignment was presented during the Module.\n",
    "Refer to specific sections and examples in *Fundamentals*.\n",
    "You should be demonstrating your understanding of the techniques, frameworks, and guidelines that we have presented.\n",
    "Through group discussion, the completion of the Lab, review of the Lab Solution, and Peer Review, you are solidifying your understanding of and confidence in the topic in preparation for the Problem Sets.\n",
    "\n",
    "Data Science is as much about what you write (communicating) as the code you execute.\n",
    "In many places, you will be required to execute code and discuss both the purpose and the result.\n",
    "We summarize this requirement as \"discuss/code/discuss\".\n",
    "In short, there should always be a triple of Markdown/Code/Markdown cells.\n",
    "\n",
    "Additionally, Data Science is about reproducibility and transparency. \n",
    "This includes good communication with your team and possibly with yourself. \n",
    "Therefore, you must show **all** work.\n",
    "\n",
    "Avail yourself of the Markdown/Codecell nature of the notebook. \n",
    "If you don't know about Markdown, look it up. \n",
    "Your notebooks should not look like ransom notes. Don't make everything bold. \n",
    "Clearly indicate what question you are answering.\n",
    "\n",
    "We will have cause to use specially formatted blocks such as:\n",
    "\n",
    "<div style=\"background: lemonchiffon; margin:20px; padding: 20px;\">\n",
    "    <strong>Special</strong>\n",
    "    <p>This is a special block. We use them to \"break character\" or \"break the 4th wall\".</p>\n",
    "</div>\n",
    "\n",
    "**Do not use them, ever, unless explicitly instructed to do so.**\n",
    "\n",
    "You should write succinctly, to the point, in prose.\n",
    "This is not a slide deck so don't use bullet points.\n",
    "\n",
    "Submit a cleanly executed notebook. \n",
    "The first code cell should say `In [1]` and each successive code cell should increase by 1 throughout the notebook.\n",
    "\n",
    "1. You may add cells but **you must not delete any of them.**\n",
    "2. Submission of the Lab represents an attestation that you have adhered to the Academic Misconduct Policy of the Whiting School of Engineering and the assignment rules given during the Course Orientation and Syllabus."
   ]
  },
  {
   "cell_type": "markdown",
   "id": "4256fbf2-e9ee-45f6-b8da-15258407da5d",
   "metadata": {},
   "source": [
    "## Specific Instructions\n",
    "\n",
    "Immediately after downloading the file, you should change the name to be your JHED ID.\n",
    "This is basically your JHU username/email address like \"fsmith79\".\n",
    "It is *not* your six character student number.\n",
    "\n",
    "You will be submitting this assignment several times.\n",
    "\n",
    "1. On **Sunday**, you should submit an HTML version of the notebook to Canvas.\n",
    "2. On **Monday**, you should submit an HTML version of the notebook to your Lab Group."
   ]
  },
  {
   "cell_type": "markdown",
   "id": "b5e2ff93-7662-41e3-8491-aeae82807204",
   "metadata": {},
   "source": [
    "**Question 1. What is the working definition of data science used in this class?**"
   ]
  },
  {
   "cell_type": "markdown",
   "id": "36e29c59-5759-4bbd-8c25-681e35decf6d",
   "metadata": {},
   "source": [
    "From the lectures and reading papers from Module 1A, we have two work definitions of data science:\n",
    "<ul> \n",
    "    <li>Max Rong's definition: <i>Data science is the application of math and computers to solve problems that stem from a lack of knowledge constrained by the small number of people with any interest in the answers.</i></li>\n",
    "    <li>Definition from Drew Conway Venn diagram: <i>Data science is the combination of  programming, math & statistics and substantive expertise.</i></li>\n",
    "</ul>"
   ]
  },
  {
   "cell_type": "markdown",
   "id": "b02e6f61-804c-4542-b45c-6f93ad809c33",
   "metadata": {},
   "source": [
    "**Question 2. What does Shron’s CoNVO stand for and how is it used? Where does it fit into the Green Cloud model of Data Science?**"
   ]
  },
  {
   "cell_type": "markdown",
   "id": "e6ea012f-23a0-4ac2-bcac-ab913734c3fe",
   "metadata": {},
   "source": [
    "<b>CoNVO</b> stands for <b>C</b>ontext, <b>N</b>eed, <b>V</b>ision and <b>O</b>utcome. <br>\n",
    "CoNVO is a different way of getting key parts of the ASK step from the Green Cloud model, these are:\n",
    "<ul>\n",
    "    <li> <b>Context</b> - What is the context of the need? Who are the stakeholders and other interested parties? </li>\n",
    "    <li> <b>Need</b> - What is the organizational need which requires fixing with data? </li>\n",
    "    <li> <b>Vision</b> - What is going to be the required and what does success look like? </li>\n",
    "    <li> <b>Outcome</b> - How will the result work itself back into the organization? </li>\n",
    "</ul>"
   ]
  },
  {
   "cell_type": "markdown",
   "id": "a52d98dd-ab40-4782-af52-5245d785ebe6",
   "metadata": {},
   "source": [
    "**Question 3. The Vision includes Mockups and Argument Sketches. Describe what these two things are.**"
   ]
  },
  {
   "cell_type": "markdown",
   "id": "6adf716a-f1a2-4126-bec7-32f748fc9ff6",
   "metadata": {},
   "source": [
    "<ul>\n",
    "<li><b>Mockups</b> help to convey The vision by suggesting what the inputs and the outputs might be, there are two kind (at least) of Mockups:</li>\n",
    "    <ul>\n",
    "        <li>Textual Mockup, a template into which we insert adjectives and numbers. Basic Argument Sketches as templete can be considered as textual Mockups </li>\n",
    "        <li>Visual Mockup, a low level sketch of a possible result of all our work usually something like a hart or charts, dashboard, spreadsheet, email or report.</li>\n",
    "    </ul>\n",
    "<li><b>Argument Sketches, like Mockups, help to convey The vision by identifying the argument we want to make by writing it out and thus making it concrete, it helps getting everyone on the same page about what the goal of the analysis is. The Argument Sketche should be persuasive without actual number.</b></li>\n",
    "</ul>"
   ]
  },
  {
   "cell_type": "markdown",
   "id": "acb89338-5a20-4c58-85b7-fd45add50b13",
   "metadata": {},
   "source": [
    "**Question 4. What’s the difference between being Data-Driven and being Data-Inspired? What should we strive to be?**"
   ]
  },
  {
   "cell_type": "markdown",
   "id": "a521d7aa-8b34-47e8-8cd1-d8786558c958",
   "metadata": {},
   "source": [
    "If we are <b>data driven</b>, then we decide <i>ahead of time</i> what the decision will be, based on data. <br>\n",
    "If we are <b>data inspired</b>, then we wait until we see the results and mix them with the traditional decision making process. <br>\n",
    "As data scientiests, we should strive to be <b>data driven</b>, we help to find choosing the decision ahead of time, otherwise, with the traditional decision making process, data scientists may not even make an actual difference to their company or organization."
   ]
  },
  {
   "cell_type": "markdown",
   "id": "12f1170d-086e-4016-8c63-1ebea401ac55",
   "metadata": {},
   "source": [
    "**Question 5. Reverse engineer the application of the Green Cloud to one of the case studies in the \"Introduction\" chapter of *Fundamentals*  or one you have found.** If you use one that you have found, you must share the link."
   ]
  },
  {
   "cell_type": "markdown",
   "id": "cbf9c1b5-2bdc-4378-b5dd-09ee1617ccfb",
   "metadata": {},
   "source": [
    "Booz Allen Hamilton, <b>Malaria</b> <br>\n",
    "<ul>\n",
    "    <li>Malaria kills ~600,000 and infects nearly 2,000,000 people, anually.</li>\n",
    "    <li>Poor countries are hit especially hard.</li>\n",
    "    <li>Africa has mix of good and bad infrastructure.</li>\n",
    "    <li>Africa has well developed cell towers and mobile phone system.</li>\n",
    "    <li>There was a malaria outbreak at a teak plantation.</li>\n",
    "    <li>Typical response is to treat the local bodies of water with chemicals to kill mosquitos but that didn't work this time.</li>\n",
    "    <li>It is observed that a large percentage of the workforce was migrant workers.</li>\n",
    "    <li>Using anonymized cell phone data, thse people had traveled near Lake Victoria.</li>\n",
    "    <li>When Lake Victoria was treated, the malaria outbreak at the teak planation stopped.</li>\n",
    "</ul>\n",
    "Reverse Engineer the application of Green Cloud to this study as follows \n",
    "<ul>\n",
    "    <li><b>ASK</b>\n",
    "        <ul>\n",
    "            <li>Why doesn't a regular response work this time? (follow-up with some questions as below)</li>\n",
    "            <li>Are the chemicals in good quality</li>\n",
    "            <li>Has the local bodies of water cleaned with mosquitos larvae after the chemical treatment?</li>\n",
    "            <li>Could there be another source of infections? (question leads to the root cause)</li>\n",
    "            <li>Did workers come from different locations? (question leads to the root cause)</li>\n",
    "        </ul>        \n",
    "    </li>\n",
    "    <li><b>GET</b>\n",
    "        <ul>\n",
    "            <li>How large is the population of the workers?</li>\n",
    "            <li>Can we have the travel history of workers? This might not be possible with bad infrastructure.</li>\n",
    "            <li>Can we have the cell phone data of the workers? This turnt out to be possible with good cell towers and mobile phone systems in Africa.</li>\n",
    "            <li>Is there any privacy issue with using the cell phone data? If there is, can we have sanitized data?</li>            \n",
    "        </ul>        \n",
    "    </li>\n",
    "    <li><b>EXPLORE</b>\n",
    "        <ul>\n",
    "            <li>Plot the travel history of the workers based on their anonymized cell phone data.</li>            \n",
    "            <li>Spot an anomality, a high number of them had traveled near Lake Victoria.</li>\n",
    "        </ul>        \n",
    "    </li>\n",
    "    <li><b>MODEL</b>\n",
    "        <ul>\n",
    "            <li>Build and validate the model using factors such as:\n",
    "                <ul>\n",
    "                    <li> Probability that someone had traveled to Lake Victoria and was infected.</li>\n",
    "                    <li> Probability that someone had traveled to Lake Victoria and was not infected.</li>\n",
    "                    <li> Probability that someone had not traveled to Lake Victoria and was infected.</li>\n",
    "                    <li> Probability that someone had not traveled to Lake Victoria and was not infected.</li>\n",
    "                </ul>\n",
    "            </li>                        \n",
    "        </ul>        \n",
    "    </li>\n",
    "    <li><b>REPORT</b>\n",
    "        <ul>\n",
    "            <li>The model shows a strong correlation between a migrant from Lake Victoria and being infected with Malaria </li>\n",
    "            <li>Using pie chart to show the dominating likelihood that the group of workers from Lake Victoria and being infected with Malaria compare the group of workers who had not traveled to Lake Victoria.</li>\n",
    "            <li>Reporting that Lake Victoria should be treated with chemicals to stop the outbreak.</li>\n",
    "        </ul>        \n",
    "    </li>    \n",
    "</ul>"
   ]
  },
  {
   "cell_type": "markdown",
   "id": "e1f45d76-6f54-49e2-8f88-49d7ff2b9d21",
   "metadata": {},
   "source": [
    "**Question 6. Reverse engineer the CoNVO for ONE of the case studies in the \"Introduction\" chapter of *Fundamentals* or ones that you have found. (It can be the same case study as Question 5).**"
   ]
  },
  {
   "cell_type": "markdown",
   "id": "4c17e588-cfbb-4594-87f6-039ae3528217",
   "metadata": {},
   "source": [
    "Booz Allen Hamilton, <b>Malaria</b> <br>\n",
    "<ul>\n",
    "    <li>Malaria kills ~600,000 and infects nearly 2,000,000 people, anually.</li>\n",
    "    <li>Poor countries are hit especially hard.</li>\n",
    "    <li>Africa has mix of good and bad infrastructure.</li>\n",
    "    <li>Africa has well developed cell towers and mobile phone system.</li>\n",
    "    <li>There was a malaria outbreak at a teak plantation.</li>\n",
    "    <li>Typical response is to treat the local bodies of water with chemicals to kill mosquitos but that didn't work this time.</li>\n",
    "    <li>It is observed that a large percentage of the workforce was migrant workers.</li>\n",
    "    <li>Using anonymized cell phone data, thse people had traveled near Lake Victoria.</li>\n",
    "    <li>When Lake Victoria was treated, the malaria outbreak at the teak planation stopped.</li>\n",
    "</ul>\n",
    "Reverse Engineer the CoNVO as follows:\n",
    "<ul>\n",
    "    <li><b>CONTEXT</b>\n",
    "        <ul>\n",
    "            <li>There was a malaria outbreak at a teak plantation.</li>\n",
    "            <li>Typical response is to treat the local bodies of water with chemicals to kill mosquitos but that didn't work this time.</li>\n",
    "        </ul>        \n",
    "    </li>\n",
    "    <li><b>Need</b>        \n",
    "        <ul>\n",
    "            <li>The typical response does not work, need to find out why.</li>        \n",
    "        </ul>\n",
    "    </li>\n",
    "    <li><b>VISION</b>        \n",
    "        <ul>\n",
    "            <li>Mockup: Putting the likelihood of someone who had traveled to lake Victoria and was infacted and the likelihood of someone who had not traveled to Lake Victoria and was infacted.</li>        \n",
    "            <li>Argument Sketch: There is a strong correlation between someone who had traveled to Lake Victoria and being infected</li>\n",
    "        </ul>\n",
    "    </li>\n",
    "    <li><b>OUTCOME</b>        \n",
    "        <ul>\n",
    "            <li>The report showed that Lake Victoria could be the source of infections, thus, instead of treating the local bodies of water with chemical, Lake Victoria must be treated.</li>\n",
    "        </ul>\n",
    "    </li>\n",
    "</ul>"
   ]
  },
  {
   "cell_type": "markdown",
   "id": "530d21d0-73e1-4b53-b7b6-3c72055dd42f",
   "metadata": {},
   "source": [
    "Assignment &copy; 2023 Stephyn G. W. Butcher. <br/>\n",
    "Completed assignment &copy; 2023, The Johns Hopkins University.\n",
    "\n",
    "This assignment may not be shared by any publicly accessible means (github, websites, email, homework sites)."
   ]
  }
 ],
 "metadata": {
  "jupytext": {
   "formats": "ipynb,qmd:quarto"
  },
  "kernelspec": {
   "display_name": "Python 3.11.3 64-bit",
   "language": "python",
   "name": "python3"
  },
  "language_info": {
   "codemirror_mode": {
    "name": "ipython",
    "version": 3
   },
   "file_extension": ".py",
   "mimetype": "text/x-python",
   "name": "python",
   "nbconvert_exporter": "python",
   "pygments_lexer": "ipython3",
   "version": "3.11.3"
  },
  "vscode": {
   "interpreter": {
    "hash": "b0fa6594d8f4cbf19f97940f81e996739fb7646882a419484c72d19e05852a7e"
   }
  }
 },
 "nbformat": 4,
 "nbformat_minor": 5
}
